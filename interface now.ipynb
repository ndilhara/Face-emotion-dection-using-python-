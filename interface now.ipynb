{
 "cells": [
  {
   "cell_type": "code",
   "execution_count": 1,
   "metadata": {
    "pycharm": {
     "name": "#%%\n"
    }
   },
   "outputs": [],
   "source": [
    "import datetime\n",
    "import tkinter as tk\n",
    "from tkinter import messagebox,Tk,Frame, Button, Canvas,messagebox\n",
    "root = tk.Tk()\n",
    "root.title(\"FACE EMOTION DETECTOR\")\n",
    "import tensorflow as tf\n",
    "from keras.models import load_model\n",
    "from time import sleep\n",
    "from keras.preprocessing.image import img_to_array\n",
    "from keras.preprocessing import image\n",
    "import cv2\n",
    "import numpy as np"
   ]
  },
  {
   "cell_type": "code",
   "execution_count": 2,
   "metadata": {
    "scrolled": true,
    "pycharm": {
     "name": "#%%\n"
    }
   },
   "outputs": [],
   "source": [
    "face_classifier = cv2.CascadeClassifier('haarcascade_frontalface_default.xml')\n",
    "classifier =load_model('Emotion.h5')\n",
    "\n",
    "class_labels = ['Angry','Disgust','Fear','Happy','Neutral','Sad','Surprise']\n",
    "\n",
    "cap = cv2.VideoCapture(0)\n"
   ]
  },
  {
   "cell_type": "code",
   "execution_count": 3,
   "metadata": {
    "pycharm": {
     "name": "#%%\n"
    }
   },
   "outputs": [],
   "source": [
    "#now = datetime.datetime.now()\n",
    "#msg = 'Today is: {}'.format(now)\n",
    "def m_about():\n",
    "    tk.messagebox.showinfo(\"About project\",\"I develped the Face Emotion Detector application as a project for Project In Technology (GETEC-13032) course. we used machine learning,image processing,python and python libraries to develope.\")\n"
   ]
  },
  {
   "cell_type": "code",
   "execution_count": 4,
   "metadata": {
    "pycharm": {
     "name": "#%%\n"
    }
   },
   "outputs": [],
   "source": [
    "def activation():\n",
    "\n",
    "    while True:\n",
    "    # Grab a single frame of video\n",
    "        ret, frame = cap.read()\n",
    "        labels = []\n",
    "        gray = cv2.cvtColor(frame,cv2.COLOR_BGR2GRAY)\n",
    "        faces = face_classifier.detectMultiScale(gray,1.3,5)\n",
    "\n",
    "        for (x,y,w,h) in faces:\n",
    "            cv2.rectangle(frame,(x,y),(x+w,y+h),(255,0,0),2)\n",
    "            roi_gray = gray[y:y+h,x:x+w]\n",
    "            roi_gray = cv2.resize(roi_gray,(48,48),interpolation=cv2.INTER_AREA)\n",
    "    \n",
    "\n",
    "\n",
    "            if np.sum([roi_gray])!=0:\n",
    "                roi = roi_gray.astype('float')/255.0\n",
    "                roi = img_to_array(roi)\n",
    "                roi = np.expand_dims(roi,axis=0)\n",
    "\n",
    "        \n",
    "                preds = classifier.predict(roi)[0]\n",
    "                label=class_labels[preds.argmax()]\n",
    "                emotion_probability = np.max(preds)\n",
    "                label_position = (x,y)\n",
    "                cv2.putText(frame,label,label_position,cv2.FONT_HERSHEY_SIMPLEX,2,(0,255,0),3)\n",
    "               \n",
    "        \n",
    "            else:\n",
    "                cv2.putText(frame,'No Face Found',(20,60),cv2.FONT_HERSHEY_SIMPLEX,2,(0,255,0),3)\n",
    "        cv2.imshow('Emotion Detector',frame)\n",
    "        if cv2.waitKey(1) & 0xFF == ord('q'):\n",
    "            break\n",
    "         \n",
    "    cv2.waitKey(1)\n",
    "    cap.release()\n",
    "\n",
    "\n",
    "    \n",
    "def deactivation():\n",
    "             cv2.destroyAllWindows()     "
   ]
  },
  {
   "cell_type": "code",
   "execution_count": 5,
   "metadata": {
    "pycharm": {
     "name": "#%%\n"
    }
   },
   "outputs": [
    {
     "data": {
      "text/plain": "''"
     },
     "execution_count": 5,
     "metadata": {},
     "output_type": "execute_result"
    }
   ],
   "source": [
    "bg_image = tk.PhotoImage(file=\"Icons/interface perfect.png\")\n",
    "activate = tk.PhotoImage(file=\"Icons/activate.png\")\n",
    "deactivate = tk.PhotoImage(file=\"Icons/deactivate.png\")\n",
    "about = tk.PhotoImage(file=\"Icons/about.png\")\n",
    "exit = tk.PhotoImage(file=\"Icons/exit.png\")\n",
    "w = bg_image.width()\n",
    "h = bg_image.height()\n",
    "root.geometry(\"%dx%d+50+30\" % (w, h))\n",
    "cv = tk.Canvas(width=w, height=h)\n",
    "cv.pack(side='top', fill='both', expand='yes')\n",
    "cv.create_image(0,0, image=bg_image, anchor='nw')\n",
    "root.iconbitmap('Icons/63-639843_applause-clipart-team-recognition-face-recognition-icon-png.ico')\n"
   ]
  },
  {
   "cell_type": "code",
   "execution_count": null,
   "outputs": [],
   "source": [
    "bt1=tk.Button(cv,image=activate,text=\"\",border=0,command=activation)\n",
    "bt1.pack(anchor='nw',pady=10,padx=25)\n",
    "bt2=tk.Button(cv,image=deactivate,text=\"\",border=0,command=deactivation)\n",
    "bt2.pack(anchor=\"nw\",pady=20,padx=25)\n",
    "bt3=tk.Button(cv,image=about,text=\"\",border=0,command=m_about)\n",
    "bt3.pack(anchor=\"nw\",pady=20,padx=25)\n",
    "bt4=tk.Button(cv,image=exit,text=\"\",border=0,command=root.destroy)\n",
    "bt4.pack(anchor=\"nw\",pady=60,padx=25)\n",
    "root.mainloop()"
   ],
   "metadata": {
    "collapsed": false,
    "pycharm": {
     "name": "#%%\n",
     "is_executing": true
    }
   }
  },
  {
   "cell_type": "code",
   "execution_count": null,
   "outputs": [],
   "source": [],
   "metadata": {
    "collapsed": false,
    "pycharm": {
     "name": "#%%\n",
     "is_executing": true
    }
   }
  }
 ],
 "metadata": {
  "kernelspec": {
   "display_name": "Python 3",
   "language": "python",
   "name": "python3"
  },
  "language_info": {
   "codemirror_mode": {
    "name": "ipython",
    "version": 3
   },
   "file_extension": ".py",
   "mimetype": "text/x-python",
   "name": "python",
   "nbconvert_exporter": "python",
   "pygments_lexer": "ipython3",
   "version": "3.7.1"
  },
  "toc": {
   "base_numbering": 1,
   "nav_menu": {},
   "number_sections": true,
   "sideBar": true,
   "skip_h1_title": false,
   "title_cell": "Table of Contents",
   "title_sidebar": "Contents",
   "toc_cell": false,
   "toc_position": {},
   "toc_section_display": true,
   "toc_window_display": false
  }
 },
 "nbformat": 4,
 "nbformat_minor": 2
}