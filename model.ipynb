{
 "cells": [
  {
   "cell_type": "code",
   "execution_count": 0,
   "metadata": {
    "colab": {},
    "colab_type": "code",
    "id": "r5J_KJIdQe8H",
    "pycharm": {
     "name": "#%%\n"
    }
   },
   "outputs": [],
   "source": []
  },
  {
   "cell_type": "code",
   "execution_count": 2,
   "metadata": {
    "colab": {
     "base_uri": "https://localhost:8080/",
     "height": 122
    },
    "colab_type": "code",
    "id": "PhWViP0AQ9DA",
    "outputId": "587cbad3-e009-4752-e3c5-e6e6159d67ed",
    "pycharm": {
     "name": "#%%\n"
    }
   },
   "outputs": [
    {
     "name": "stdout",
     "output_type": "stream",
     "text": [
      "Go to this URL in a browser: https://accounts.google.com/o/oauth2/auth?client_id=947318989803-6bn6qk8qdgf4n4g3pfee6491hc0brc4i.apps.googleusercontent.com&redirect_uri=urn%3aietf%3awg%3aoauth%3a2.0%3aoob&response_type=code&scope=email%20https%3a%2f%2fwww.googleapis.com%2fauth%2fdocs.test%20https%3a%2f%2fwww.googleapis.com%2fauth%2fdrive%20https%3a%2f%2fwww.googleapis.com%2fauth%2fdrive.photos.readonly%20https%3a%2f%2fwww.googleapis.com%2fauth%2fpeopleapi.readonly\n",
      "\n",
      "Enter your authorization code:\n",
      "··········\n",
      "Mounted at /content/drive\n"
     ]
    }
   ],
   "source": [
    "from google.colab import drive\n",
    "drive.mount('/content/drive')"
   ]
  },
  {
   "cell_type": "code",
   "execution_count": 0,
   "metadata": {
    "colab": {},
    "colab_type": "code",
    "id": "ORin2ei-VBUQ",
    "pycharm": {
     "name": "#%%\n"
    }
   },
   "outputs": [],
   "source": [
    "train_file=\"/content/drive/My Drive/Colab Notebooks/images set 01.zip\""
   ]
  },
  {
   "cell_type": "code",
   "execution_count": 0,
   "metadata": {
    "colab": {},
    "colab_type": "code",
    "id": "XReFY0mzVcMQ",
    "pycharm": {
     "name": "#%%\n"
    }
   },
   "outputs": [],
   "source": [
    "import zipfile\n",
    "with zipfile.ZipFile(train_file,'r') as z:\n",
    "  z.extractall()"
   ]
  },
  {
   "cell_type": "code",
   "execution_count": 5,
   "metadata": {
    "colab": {
     "base_uri": "https://localhost:8080/",
     "height": 97
    },
    "colab_type": "code",
    "id": "skLXLnDShDdO",
    "outputId": "738ef098-4482-4b21-cce2-5806d36cbafb",
    "pycharm": {
     "name": "#%%\n"
    }
   },
   "outputs": [
    {
     "name": "stderr",
     "output_type": "stream",
     "text": [
      "Using TensorFlow backend.\n"
     ]
    },
    {
     "data": {
      "text/html": [
       "<p style=\"color: red;\">\n",
       "The default version of TensorFlow in Colab will soon switch to TensorFlow 2.x.<br>\n",
       "We recommend you <a href=\"https://www.tensorflow.org/guide/migrate\" target=\"_blank\">upgrade</a> now \n",
       "or ensure your notebook will continue to use TensorFlow 1.x via the <code>%tensorflow_version 1.x</code> magic:\n",
       "<a href=\"https://colab.research.google.com/notebooks/tensorflow_version.ipynb\" target=\"_blank\">more info</a>.</p>\n"
      ],
      "text/plain": [
       "<IPython.core.display.HTML object>"
      ]
     },
     "metadata": {
      "tags": []
     },
     "output_type": "display_data"
    }
   ],
   "source": [
    "import tensorflow\n",
    "import keras\n",
    "from keras.preprocessing.image import ImageDataGenerator\n",
    "from keras.models import Sequential\n",
    "from keras.layers import Dense,Dropout,Activation,Flatten,BatchNormalization\n",
    "from keras.layers import Conv2D,MaxPooling2D"
   ]
  },
  {
   "cell_type": "code",
   "execution_count": 6,
   "metadata": {
    "colab": {
     "base_uri": "https://localhost:8080/",
     "height": 34
    },
    "colab_type": "code",
    "id": "FPsRNnguWGW6",
    "outputId": "7a1fbab7-1868-4826-a51c-b0ad71a5576e",
    "pycharm": {
     "name": "#%%\n"
    }
   },
   "outputs": [
    {
     "data": {
      "text/plain": [
       "['sad', 'disgust', 'fear', 'surprise', 'happy', 'neutral', 'angry']"
      ]
     },
     "execution_count": 6,
     "metadata": {
      "tags": []
     },
     "output_type": "execute_result"
    }
   ],
   "source": [
    "import os \n",
    "train_path=\"./train/\"\n",
    "validation_path=\"./validation/\"\n",
    "os.listdir(validation_path)\n"
   ]
  },
  {
   "cell_type": "code",
   "execution_count": 0,
   "metadata": {
    "colab": {},
    "colab_type": "code",
    "id": "-JZMjGlUXDkc",
    "pycharm": {
     "name": "#%%\n"
    }
   },
   "outputs": [],
   "source": []
  },
  {
   "cell_type": "code",
   "execution_count": 0,
   "metadata": {
    "colab": {},
    "colab_type": "code",
    "id": "BRNFtwoVgvc5",
    "pycharm": {
     "name": "#%%\n"
    }
   },
   "outputs": [],
   "source": []
  },
  {
   "cell_type": "code",
   "execution_count": 0,
   "metadata": {
    "colab": {},
    "colab_type": "code",
    "id": "3TMgdB7kg-X2",
    "pycharm": {
     "name": "#%%\n"
    }
   },
   "outputs": [],
   "source": [
    " num_classes=7\n",
    " batch_size=128\n",
    " img_rows,img_cols = 48,48"
   ]
  },
  {
   "cell_type": "code",
   "execution_count": 0,
   "metadata": {
    "colab": {},
    "colab_type": "code",
    "id": "nKwsttWsjrtD",
    "pycharm": {
     "name": "#%%\n"
    }
   },
   "outputs": [],
   "source": [
    "train_datagen = ImageDataGenerator(\n",
    "\t\t\t\t\trescale=1./255,\n",
    "\t\t\t\t\trotation_range=30,\n",
    "\t\t\t\t\tshear_range=0.3,\n",
    "\t\t\t\t\tzoom_range=0.3,\n",
    "\t\t\t\t\twidth_shift_range=0.4,\n",
    "\t\t\t\t\theight_shift_range=0.4,\n",
    "\t\t\t\t\thorizontal_flip=True,\n",
    "\t\t\t\t\tfill_mode='nearest')\n",
    "\n",
    "\n"
   ]
  },
  {
   "cell_type": "code",
   "execution_count": 0,
   "metadata": {
    "colab": {},
    "colab_type": "code",
    "id": "8eeLlGQzlLLG",
    "pycharm": {
     "name": "#%%\n"
    }
   },
   "outputs": [],
   "source": [
    "validation_datagen = ImageDataGenerator(rescale=1./255)"
   ]
  },
  {
   "cell_type": "code",
   "execution_count": 10,
   "metadata": {
    "colab": {
     "base_uri": "https://localhost:8080/",
     "height": 34
    },
    "colab_type": "code",
    "id": "NB-uTz4plP7t",
    "outputId": "d0183bb3-54e2-4416-e09e-7dd5aa63d263",
    "pycharm": {
     "name": "#%%\n"
    }
   },
   "outputs": [
    {
     "name": "stdout",
     "output_type": "stream",
     "text": [
      "Found 28821 images belonging to 7 classes.\n"
     ]
    }
   ],
   "source": [
    "train_generator = train_datagen.flow_from_directory(\n",
    "\t\t\t\t\ttrain_path,\n",
    "\t\t\t\t\tcolor_mode='grayscale',\n",
    "\t\t\t\t\ttarget_size=(img_rows,img_cols),\n",
    "\t\t\t\t\tbatch_size=batch_size,\n",
    "\t\t\t\t\tclass_mode='categorical',\n",
    "\t\t\t\t\tshuffle=True)"
   ]
  },
  {
   "cell_type": "code",
   "execution_count": 11,
   "metadata": {
    "colab": {
     "base_uri": "https://localhost:8080/",
     "height": 34
    },
    "colab_type": "code",
    "id": "p5c8eSAElXNp",
    "outputId": "2e819a84-7055-4a89-d4dc-7f81e83a88da",
    "pycharm": {
     "name": "#%%\n"
    }
   },
   "outputs": [
    {
     "name": "stdout",
     "output_type": "stream",
     "text": [
      "Found 7066 images belonging to 7 classes.\n"
     ]
    }
   ],
   "source": [
    "validation_generator = validation_datagen.flow_from_directory(\n",
    "\t\t\t\t\t\t\tvalidation_path,\n",
    "\t\t\t\t\t\t\tcolor_mode='grayscale',\n",
    "\t\t\t\t\t\t\ttarget_size=(img_rows,img_cols),\n",
    "\t\t\t\t\t\t\tbatch_size=batch_size,\n",
    "\t\t\t\t\t\t\tclass_mode='categorical',\n",
    "\t\t\t\t\t\t\tshuffle=True)"
   ]
  },
  {
   "cell_type": "code",
   "execution_count": 12,
   "metadata": {
    "colab": {
     "base_uri": "https://localhost:8080/",
     "height": 71
    },
    "colab_type": "code",
    "id": "3wxR9b_BlpzU",
    "outputId": "64cc5ad8-5b05-4e9b-b297-bb75f25d44cf",
    "pycharm": {
     "name": "#%%\n"
    }
   },
   "outputs": [
    {
     "name": "stdout",
     "output_type": "stream",
     "text": [
      "WARNING:tensorflow:From /usr/local/lib/python3.6/dist-packages/keras/backend/tensorflow_backend.py:66: The name tf.get_default_graph is deprecated. Please use tf.compat.v1.get_default_graph instead.\n",
      "\n"
     ]
    }
   ],
   "source": [
    "model = Sequential()\n"
   ]
  },
  {
   "cell_type": "code",
   "execution_count": 13,
   "metadata": {
    "colab": {
     "base_uri": "https://localhost:8080/",
     "height": 462
    },
    "colab_type": "code",
    "id": "6IiuSEhCmZRQ",
    "outputId": "3252c816-94cf-4054-ca05-cb9725a3585c",
    "pycharm": {
     "name": "#%%\n"
    }
   },
   "outputs": [
    {
     "name": "stdout",
     "output_type": "stream",
     "text": [
      "WARNING:tensorflow:From /usr/local/lib/python3.6/dist-packages/keras/backend/tensorflow_backend.py:541: The name tf.placeholder is deprecated. Please use tf.compat.v1.placeholder instead.\n",
      "\n",
      "WARNING:tensorflow:From /usr/local/lib/python3.6/dist-packages/keras/backend/tensorflow_backend.py:4479: The name tf.truncated_normal is deprecated. Please use tf.random.truncated_normal instead.\n",
      "\n",
      "WARNING:tensorflow:From /usr/local/lib/python3.6/dist-packages/keras/backend/tensorflow_backend.py:190: The name tf.get_default_session is deprecated. Please use tf.compat.v1.get_default_session instead.\n",
      "\n",
      "WARNING:tensorflow:From /usr/local/lib/python3.6/dist-packages/keras/backend/tensorflow_backend.py:197: The name tf.ConfigProto is deprecated. Please use tf.compat.v1.ConfigProto instead.\n",
      "\n",
      "WARNING:tensorflow:From /usr/local/lib/python3.6/dist-packages/keras/backend/tensorflow_backend.py:203: The name tf.Session is deprecated. Please use tf.compat.v1.Session instead.\n",
      "\n",
      "WARNING:tensorflow:From /usr/local/lib/python3.6/dist-packages/keras/backend/tensorflow_backend.py:207: The name tf.global_variables is deprecated. Please use tf.compat.v1.global_variables instead.\n",
      "\n",
      "WARNING:tensorflow:From /usr/local/lib/python3.6/dist-packages/keras/backend/tensorflow_backend.py:216: The name tf.is_variable_initialized is deprecated. Please use tf.compat.v1.is_variable_initialized instead.\n",
      "\n",
      "WARNING:tensorflow:From /usr/local/lib/python3.6/dist-packages/keras/backend/tensorflow_backend.py:223: The name tf.variables_initializer is deprecated. Please use tf.compat.v1.variables_initializer instead.\n",
      "\n",
      "WARNING:tensorflow:From /usr/local/lib/python3.6/dist-packages/keras/backend/tensorflow_backend.py:2041: The name tf.nn.fused_batch_norm is deprecated. Please use tf.compat.v1.nn.fused_batch_norm instead.\n",
      "\n",
      "WARNING:tensorflow:From /usr/local/lib/python3.6/dist-packages/keras/backend/tensorflow_backend.py:148: The name tf.placeholder_with_default is deprecated. Please use tf.compat.v1.placeholder_with_default instead.\n",
      "\n",
      "WARNING:tensorflow:From /usr/local/lib/python3.6/dist-packages/keras/backend/tensorflow_backend.py:4267: The name tf.nn.max_pool is deprecated. Please use tf.nn.max_pool2d instead.\n",
      "\n",
      "WARNING:tensorflow:From /usr/local/lib/python3.6/dist-packages/keras/backend/tensorflow_backend.py:3733: calling dropout (from tensorflow.python.ops.nn_ops) with keep_prob is deprecated and will be removed in a future version.\n",
      "Instructions for updating:\n",
      "Please use `rate` instead of `keep_prob`. Rate should be set to `rate = 1 - keep_prob`.\n"
     ]
    }
   ],
   "source": [
    "model.add(Conv2D(32,(3,3),padding='same',kernel_initializer='he_normal',input_shape=(img_rows,img_cols,1)))\n",
    "model.add(Activation('relu'))\n",
    "model.add(BatchNormalization())\n",
    "model.add(Conv2D(32,(3,3),padding='same',kernel_initializer='he_normal',input_shape=(img_rows,img_cols,1)))\n",
    "model.add(Activation('relu'))\n",
    "model.add(BatchNormalization())\n",
    "model.add(MaxPooling2D(pool_size=(2,2)))\n",
    "model.add(Dropout(0.2))"
   ]
  },
  {
   "cell_type": "code",
   "execution_count": 0,
   "metadata": {
    "colab": {},
    "colab_type": "code",
    "id": "udduuQcnnVIn",
    "pycharm": {
     "name": "#%%\n"
    }
   },
   "outputs": [],
   "source": [
    "model.add(Conv2D(64,(3,3),padding='same',kernel_initializer='he_normal'))\n",
    "model.add(Activation('relu'))\n",
    "model.add(BatchNormalization())\n",
    "model.add(Conv2D(64,(3,3),padding='same',kernel_initializer='he_normal'))\n",
    "model.add(Activation('relu'))\n",
    "model.add(BatchNormalization())\n",
    "model.add(MaxPooling2D(pool_size=(2,2)))\n",
    "model.add(Dropout(0.2))\n"
   ]
  },
  {
   "cell_type": "code",
   "execution_count": 0,
   "metadata": {
    "colab": {},
    "colab_type": "code",
    "id": "TsXn4F_Nnjip",
    "pycharm": {
     "name": "#%%\n"
    }
   },
   "outputs": [],
   "source": [
    "model.add(Conv2D(128,(3,3),padding='same',kernel_initializer='he_normal'))\n",
    "model.add(Activation('relu'))\n",
    "model.add(BatchNormalization())\n",
    "model.add(Conv2D(128,(3,3),padding='same',kernel_initializer='he_normal'))\n",
    "model.add(Activation('relu'))\n",
    "model.add(BatchNormalization())\n",
    "model.add(MaxPooling2D(pool_size=(2,2)))\n",
    "model.add(Dropout(0.2))"
   ]
  },
  {
   "cell_type": "code",
   "execution_count": 0,
   "metadata": {
    "colab": {},
    "colab_type": "code",
    "id": "MRUq60Yhnqxw",
    "pycharm": {
     "name": "#%%\n"
    }
   },
   "outputs": [],
   "source": [
    "model.add(Conv2D(256,(3,3),padding='same',kernel_initializer='he_normal'))\n",
    "model.add(Activation('relu'))\n",
    "model.add(BatchNormalization())\n",
    "model.add(Conv2D(256,(3,3),padding='same',kernel_initializer='he_normal'))\n",
    "model.add(Activation('relu'))\n",
    "model.add(BatchNormalization())\n",
    "model.add(MaxPooling2D(pool_size=(2,2)))\n",
    "model.add(Dropout(0.2))\n"
   ]
  },
  {
   "cell_type": "code",
   "execution_count": 0,
   "metadata": {
    "colab": {},
    "colab_type": "code",
    "id": "r9FFusaOnwQZ",
    "pycharm": {
     "name": "#%%\n"
    }
   },
   "outputs": [],
   "source": [
    "model.add(Flatten())\n",
    "model.add(Dense(64,kernel_initializer='he_normal'))\n",
    "model.add(Activation('relu'))\n",
    "model.add(BatchNormalization())\n",
    "model.add(Dropout(0.5))"
   ]
  },
  {
   "cell_type": "code",
   "execution_count": 0,
   "metadata": {
    "colab": {},
    "colab_type": "code",
    "id": "epXSJ6F_n1Be",
    "pycharm": {
     "name": "#%%\n"
    }
   },
   "outputs": [],
   "source": [
    "model.add(Dense(64,kernel_initializer='he_normal'))\n",
    "model.add(Activation('relu'))\n",
    "model.add(BatchNormalization())\n",
    "model.add(Dropout(0.5))"
   ]
  },
  {
   "cell_type": "code",
   "execution_count": 19,
   "metadata": {
    "colab": {
     "base_uri": "https://localhost:8080/",
     "height": 1000
    },
    "colab_type": "code",
    "id": "Yt-3_1gan8EC",
    "outputId": "78c41ccd-43b1-4478-c114-ddb713da9b5f",
    "pycharm": {
     "name": "#%%\n"
    }
   },
   "outputs": [
    {
     "name": "stdout",
     "output_type": "stream",
     "text": [
      "Model: \"sequential_1\"\n",
      "_________________________________________________________________\n",
      "Layer (type)                 Output Shape              Param #   \n",
      "=================================================================\n",
      "conv2d_1 (Conv2D)            (None, 48, 48, 32)        320       \n",
      "_________________________________________________________________\n",
      "activation_1 (Activation)    (None, 48, 48, 32)        0         \n",
      "_________________________________________________________________\n",
      "batch_normalization_1 (Batch (None, 48, 48, 32)        128       \n",
      "_________________________________________________________________\n",
      "conv2d_2 (Conv2D)            (None, 48, 48, 32)        9248      \n",
      "_________________________________________________________________\n",
      "activation_2 (Activation)    (None, 48, 48, 32)        0         \n",
      "_________________________________________________________________\n",
      "batch_normalization_2 (Batch (None, 48, 48, 32)        128       \n",
      "_________________________________________________________________\n",
      "max_pooling2d_1 (MaxPooling2 (None, 24, 24, 32)        0         \n",
      "_________________________________________________________________\n",
      "dropout_1 (Dropout)          (None, 24, 24, 32)        0         \n",
      "_________________________________________________________________\n",
      "conv2d_3 (Conv2D)            (None, 24, 24, 64)        18496     \n",
      "_________________________________________________________________\n",
      "activation_3 (Activation)    (None, 24, 24, 64)        0         \n",
      "_________________________________________________________________\n",
      "batch_normalization_3 (Batch (None, 24, 24, 64)        256       \n",
      "_________________________________________________________________\n",
      "conv2d_4 (Conv2D)            (None, 24, 24, 64)        36928     \n",
      "_________________________________________________________________\n",
      "activation_4 (Activation)    (None, 24, 24, 64)        0         \n",
      "_________________________________________________________________\n",
      "batch_normalization_4 (Batch (None, 24, 24, 64)        256       \n",
      "_________________________________________________________________\n",
      "max_pooling2d_2 (MaxPooling2 (None, 12, 12, 64)        0         \n",
      "_________________________________________________________________\n",
      "dropout_2 (Dropout)          (None, 12, 12, 64)        0         \n",
      "_________________________________________________________________\n",
      "conv2d_5 (Conv2D)            (None, 12, 12, 128)       73856     \n",
      "_________________________________________________________________\n",
      "activation_5 (Activation)    (None, 12, 12, 128)       0         \n",
      "_________________________________________________________________\n",
      "batch_normalization_5 (Batch (None, 12, 12, 128)       512       \n",
      "_________________________________________________________________\n",
      "conv2d_6 (Conv2D)            (None, 12, 12, 128)       147584    \n",
      "_________________________________________________________________\n",
      "activation_6 (Activation)    (None, 12, 12, 128)       0         \n",
      "_________________________________________________________________\n",
      "batch_normalization_6 (Batch (None, 12, 12, 128)       512       \n",
      "_________________________________________________________________\n",
      "max_pooling2d_3 (MaxPooling2 (None, 6, 6, 128)         0         \n",
      "_________________________________________________________________\n",
      "dropout_3 (Dropout)          (None, 6, 6, 128)         0         \n",
      "_________________________________________________________________\n",
      "conv2d_7 (Conv2D)            (None, 6, 6, 256)         295168    \n",
      "_________________________________________________________________\n",
      "activation_7 (Activation)    (None, 6, 6, 256)         0         \n",
      "_________________________________________________________________\n",
      "batch_normalization_7 (Batch (None, 6, 6, 256)         1024      \n",
      "_________________________________________________________________\n",
      "conv2d_8 (Conv2D)            (None, 6, 6, 256)         590080    \n",
      "_________________________________________________________________\n",
      "activation_8 (Activation)    (None, 6, 6, 256)         0         \n",
      "_________________________________________________________________\n",
      "batch_normalization_8 (Batch (None, 6, 6, 256)         1024      \n",
      "_________________________________________________________________\n",
      "max_pooling2d_4 (MaxPooling2 (None, 3, 3, 256)         0         \n",
      "_________________________________________________________________\n",
      "dropout_4 (Dropout)          (None, 3, 3, 256)         0         \n",
      "_________________________________________________________________\n",
      "flatten_1 (Flatten)          (None, 2304)              0         \n",
      "_________________________________________________________________\n",
      "dense_1 (Dense)              (None, 64)                147520    \n",
      "_________________________________________________________________\n",
      "activation_9 (Activation)    (None, 64)                0         \n",
      "_________________________________________________________________\n",
      "batch_normalization_9 (Batch (None, 64)                256       \n",
      "_________________________________________________________________\n",
      "dropout_5 (Dropout)          (None, 64)                0         \n",
      "_________________________________________________________________\n",
      "dense_2 (Dense)              (None, 64)                4160      \n",
      "_________________________________________________________________\n",
      "activation_10 (Activation)   (None, 64)                0         \n",
      "_________________________________________________________________\n",
      "batch_normalization_10 (Batc (None, 64)                256       \n",
      "_________________________________________________________________\n",
      "dropout_6 (Dropout)          (None, 64)                0         \n",
      "_________________________________________________________________\n",
      "dense_3 (Dense)              (None, 7)                 455       \n",
      "_________________________________________________________________\n",
      "activation_11 (Activation)   (None, 7)                 0         \n",
      "=================================================================\n",
      "Total params: 1,328,167\n",
      "Trainable params: 1,325,991\n",
      "Non-trainable params: 2,176\n",
      "_________________________________________________________________\n",
      "None\n"
     ]
    }
   ],
   "source": [
    "model.add(Dense(num_classes,kernel_initializer='he_normal'))\n",
    "model.add(Activation('softmax'))\n",
    "\n",
    "print(model.summary())"
   ]
  },
  {
   "cell_type": "code",
   "execution_count": 0,
   "metadata": {
    "colab": {},
    "colab_type": "code",
    "id": "3qjDfSONoDJs",
    "pycharm": {
     "name": "#%%\n"
    }
   },
   "outputs": [],
   "source": [
    "from keras.optimizers import RMSprop,SGD,Adam\n",
    "from keras.callbacks import ModelCheckpoint, EarlyStopping, ReduceLROnPlateau"
   ]
  },
  {
   "cell_type": "code",
   "execution_count": 26,
   "metadata": {
    "colab": {
     "base_uri": "https://localhost:8080/",
     "height": 1000
    },
    "colab_type": "code",
    "id": "5IZhp9PNoPiO",
    "outputId": "51993fe4-58a0-4815-e9bf-c33d6c188388",
    "pycharm": {
     "name": "#%%\n"
    }
   },
   "outputs": [
    {
     "name": "stdout",
     "output_type": "stream",
     "text": [
      "Epoch 1/200\n",
      "188/188 [==============================] - 21s 114ms/step - loss: 0.8533 - acc: 0.6896 - val_loss: 1.0160 - val_acc: 0.6739\n",
      "Epoch 2/200\n",
      "188/188 [==============================] - 17s 93ms/step - loss: 0.8627 - acc: 0.6881 - val_loss: 0.9682 - val_acc: 0.7072\n",
      "Epoch 3/200\n",
      "188/188 [==============================] - 18s 96ms/step - loss: 0.8537 - acc: 0.6877 - val_loss: 0.9968 - val_acc: 0.6745\n",
      "Epoch 4/200\n",
      "188/188 [==============================] - 18s 94ms/step - loss: 0.8406 - acc: 0.6955 - val_loss: 0.9671 - val_acc: 0.6889\n",
      "Epoch 5/200\n",
      "188/188 [==============================] - 18s 98ms/step - loss: 0.8582 - acc: 0.6861 - val_loss: 0.9652 - val_acc: 0.6907\n",
      "Epoch 6/200\n",
      "188/188 [==============================] - 18s 94ms/step - loss: 0.8544 - acc: 0.6910 - val_loss: 0.9688 - val_acc: 0.6787\n",
      "Epoch 7/200\n",
      "188/188 [==============================] - 18s 97ms/step - loss: 0.8548 - acc: 0.6907 - val_loss: 0.9789 - val_acc: 0.6776\n",
      "Epoch 8/200\n",
      "188/188 [==============================] - 18s 95ms/step - loss: 0.8449 - acc: 0.6907 - val_loss: 1.0286 - val_acc: 0.6689\n",
      "Epoch 9/200\n",
      "188/188 [==============================] - 17s 93ms/step - loss: 0.8500 - acc: 0.6940 - val_loss: 1.0052 - val_acc: 0.6760\n",
      "Epoch 10/200\n",
      "188/188 [==============================] - 18s 96ms/step - loss: 0.8538 - acc: 0.6890 - val_loss: 0.9886 - val_acc: 0.6798\n",
      "Epoch 11/200\n",
      "188/188 [==============================] - 18s 94ms/step - loss: 0.8384 - acc: 0.6999 - val_loss: 1.0035 - val_acc: 0.6848\n",
      "Epoch 12/200\n",
      "188/188 [==============================] - 18s 93ms/step - loss: 0.8552 - acc: 0.6891 - val_loss: 0.9456 - val_acc: 0.6977\n",
      "Epoch 13/200\n",
      "188/188 [==============================] - 18s 98ms/step - loss: 0.8480 - acc: 0.6916 - val_loss: 0.9296 - val_acc: 0.6918\n",
      "Epoch 14/200\n",
      "188/188 [==============================] - 18s 93ms/step - loss: 0.8615 - acc: 0.6883 - val_loss: 0.9425 - val_acc: 0.6974\n",
      "Epoch 15/200\n",
      "188/188 [==============================] - 18s 95ms/step - loss: 0.8475 - acc: 0.6924 - val_loss: 0.9633 - val_acc: 0.6946\n",
      "Epoch 16/200\n",
      "188/188 [==============================] - 18s 96ms/step - loss: 0.8414 - acc: 0.6942 - val_loss: 1.0247 - val_acc: 0.6719\n",
      "Epoch 17/200\n",
      "188/188 [==============================] - 18s 96ms/step - loss: 0.8478 - acc: 0.6926 - val_loss: 0.9762 - val_acc: 0.6739\n",
      "Epoch 18/200\n",
      "188/188 [==============================] - 18s 95ms/step - loss: 0.8482 - acc: 0.6910 - val_loss: 0.9811 - val_acc: 0.6840\n",
      "Epoch 19/200\n",
      "188/188 [==============================] - 18s 94ms/step - loss: 0.8538 - acc: 0.6933 - val_loss: 0.9796 - val_acc: 0.6698\n",
      "Epoch 20/200\n",
      "188/188 [==============================] - 18s 96ms/step - loss: 0.8362 - acc: 0.6942 - val_loss: 0.9790 - val_acc: 0.6858\n",
      "Epoch 21/200\n",
      "188/188 [==============================] - 18s 94ms/step - loss: 0.8435 - acc: 0.6952 - val_loss: 0.9754 - val_acc: 0.6817\n",
      "Epoch 22/200\n",
      "188/188 [==============================] - 18s 95ms/step - loss: 0.8467 - acc: 0.6960 - val_loss: 1.0487 - val_acc: 0.6703\n",
      "Epoch 23/200\n",
      "188/188 [==============================] - 18s 98ms/step - loss: 0.8471 - acc: 0.6947 - val_loss: 0.9787 - val_acc: 0.6878\n",
      "Epoch 24/200\n",
      "188/188 [==============================] - 18s 95ms/step - loss: 0.8429 - acc: 0.6938 - val_loss: 0.9997 - val_acc: 0.6726\n",
      "Epoch 25/200\n",
      "188/188 [==============================] - 18s 95ms/step - loss: 0.8425 - acc: 0.6970 - val_loss: 0.9472 - val_acc: 0.6830\n",
      "Epoch 26/200\n",
      "188/188 [==============================] - 18s 94ms/step - loss: 0.8390 - acc: 0.6980 - val_loss: 1.0169 - val_acc: 0.6746\n",
      "Epoch 27/200\n",
      "188/188 [==============================] - 18s 97ms/step - loss: 0.8544 - acc: 0.6901 - val_loss: 0.9679 - val_acc: 0.6865\n",
      "Epoch 28/200\n",
      "188/188 [==============================] - 18s 96ms/step - loss: 0.8418 - acc: 0.6968 - val_loss: 0.9805 - val_acc: 0.6933\n",
      "Epoch 29/200\n",
      "188/188 [==============================] - 18s 95ms/step - loss: 0.8418 - acc: 0.6932 - val_loss: 1.0258 - val_acc: 0.6702\n",
      "Epoch 30/200\n",
      "188/188 [==============================] - 18s 97ms/step - loss: 0.8504 - acc: 0.6961 - val_loss: 0.9790 - val_acc: 0.6851\n",
      "Epoch 31/200\n",
      "188/188 [==============================] - 18s 93ms/step - loss: 0.8506 - acc: 0.6943 - val_loss: 1.0002 - val_acc: 0.6695\n",
      "Epoch 32/200\n",
      "188/188 [==============================] - 18s 96ms/step - loss: 0.8445 - acc: 0.6946 - val_loss: 0.9401 - val_acc: 0.6985\n",
      "Epoch 33/200\n",
      "188/188 [==============================] - 18s 96ms/step - loss: 0.8406 - acc: 0.6943 - val_loss: 1.0009 - val_acc: 0.6756\n",
      "Epoch 34/200\n",
      "188/188 [==============================] - 18s 95ms/step - loss: 0.8465 - acc: 0.6912 - val_loss: 0.9681 - val_acc: 0.6827\n",
      "Epoch 35/200\n",
      "188/188 [==============================] - 18s 97ms/step - loss: 0.8499 - acc: 0.6896 - val_loss: 0.9419 - val_acc: 0.7013\n",
      "Epoch 36/200\n",
      "188/188 [==============================] - 18s 93ms/step - loss: 0.8427 - acc: 0.6950 - val_loss: 0.9874 - val_acc: 0.6817\n",
      "Epoch 37/200\n",
      "188/188 [==============================] - 18s 96ms/step - loss: 0.8310 - acc: 0.6989 - val_loss: 1.0104 - val_acc: 0.6812\n",
      "Epoch 38/200\n",
      "188/188 [==============================] - 18s 95ms/step - loss: 0.8374 - acc: 0.6942 - val_loss: 0.9557 - val_acc: 0.6909\n",
      "Epoch 39/200\n",
      "188/188 [==============================] - 18s 94ms/step - loss: 0.8456 - acc: 0.6924 - val_loss: 1.0351 - val_acc: 0.6654\n",
      "Epoch 40/200\n",
      "188/188 [==============================] - 18s 96ms/step - loss: 0.8525 - acc: 0.6941 - val_loss: 1.0002 - val_acc: 0.6773\n",
      "Epoch 41/200\n",
      "188/188 [==============================] - 18s 96ms/step - loss: 0.8374 - acc: 0.6965 - val_loss: 1.0066 - val_acc: 0.6780\n",
      "Epoch 42/200\n",
      "188/188 [==============================] - 18s 96ms/step - loss: 0.8476 - acc: 0.6930 - val_loss: 1.0353 - val_acc: 0.6763\n",
      "Epoch 43/200\n",
      "188/188 [==============================] - 18s 94ms/step - loss: 0.8428 - acc: 0.7001 - val_loss: 0.9934 - val_acc: 0.6770\n",
      "Epoch 44/200\n",
      "188/188 [==============================] - 18s 95ms/step - loss: 0.8513 - acc: 0.6944 - val_loss: 0.9490 - val_acc: 0.6960\n",
      "Epoch 45/200\n",
      "188/188 [==============================] - 18s 97ms/step - loss: 0.8341 - acc: 0.6964 - val_loss: 1.0129 - val_acc: 0.6698\n",
      "Epoch 46/200\n",
      "188/188 [==============================] - 18s 94ms/step - loss: 0.8417 - acc: 0.6940 - val_loss: 0.9469 - val_acc: 0.6967\n",
      "Epoch 47/200\n",
      "188/188 [==============================] - 18s 96ms/step - loss: 0.8416 - acc: 0.6942 - val_loss: 1.0178 - val_acc: 0.6791\n",
      "Epoch 48/200\n",
      "188/188 [==============================] - 17s 93ms/step - loss: 0.8431 - acc: 0.6939 - val_loss: 1.0106 - val_acc: 0.6705\n",
      "Epoch 49/200\n",
      "188/188 [==============================] - 18s 94ms/step - loss: 0.8354 - acc: 0.6998 - val_loss: 0.9730 - val_acc: 0.6886\n",
      "Epoch 50/200\n",
      "188/188 [==============================] - 18s 96ms/step - loss: 0.8481 - acc: 0.6938 - val_loss: 0.9331 - val_acc: 0.6868\n",
      "Epoch 51/200\n",
      "188/188 [==============================] - 18s 96ms/step - loss: 0.8390 - acc: 0.6971 - val_loss: 1.0225 - val_acc: 0.6732\n",
      "Epoch 52/200\n",
      "188/188 [==============================] - 18s 98ms/step - loss: 0.8419 - acc: 0.6989 - val_loss: 0.9452 - val_acc: 0.6890\n",
      "Epoch 53/200\n",
      "188/188 [==============================] - 18s 93ms/step - loss: 0.8298 - acc: 0.7003 - val_loss: 1.0374 - val_acc: 0.6702\n",
      "Epoch 54/200\n",
      "188/188 [==============================] - 18s 95ms/step - loss: 0.8337 - acc: 0.7005 - val_loss: 0.9639 - val_acc: 0.6900\n",
      "Epoch 55/200\n",
      "188/188 [==============================] - 18s 96ms/step - loss: 0.8401 - acc: 0.6959 - val_loss: 0.9886 - val_acc: 0.6824\n",
      "Epoch 56/200\n",
      "188/188 [==============================] - 18s 94ms/step - loss: 0.8344 - acc: 0.6993 - val_loss: 0.9719 - val_acc: 0.6882\n",
      "Epoch 57/200\n",
      "188/188 [==============================] - 18s 95ms/step - loss: 0.8381 - acc: 0.6949 - val_loss: 0.9797 - val_acc: 0.6916\n",
      "Epoch 58/200\n",
      "188/188 [==============================] - 18s 98ms/step - loss: 0.8440 - acc: 0.6965 - val_loss: 1.0169 - val_acc: 0.6749\n",
      "Epoch 59/200\n",
      "188/188 [==============================] - 18s 97ms/step - loss: 0.8316 - acc: 0.7025 - val_loss: 1.0240 - val_acc: 0.6780\n",
      "Epoch 60/200\n",
      "188/188 [==============================] - 18s 94ms/step - loss: 0.8350 - acc: 0.6994 - val_loss: 1.0015 - val_acc: 0.6746\n",
      "Epoch 61/200\n",
      "188/188 [==============================] - 18s 96ms/step - loss: 0.8297 - acc: 0.6996 - val_loss: 0.9915 - val_acc: 0.6816\n",
      "Epoch 62/200\n",
      "188/188 [==============================] - 18s 96ms/step - loss: 0.8395 - acc: 0.6985 - val_loss: 1.0522 - val_acc: 0.6630\n",
      "Epoch 63/200\n",
      "188/188 [==============================] - 18s 97ms/step - loss: 0.8331 - acc: 0.7002 - val_loss: 0.9479 - val_acc: 0.6977\n",
      "Epoch 64/200\n",
      "188/188 [==============================] - 18s 97ms/step - loss: 0.8378 - acc: 0.6971 - val_loss: 0.9442 - val_acc: 0.6911\n",
      "Epoch 65/200\n",
      "188/188 [==============================] - 18s 95ms/step - loss: 0.8441 - acc: 0.6960 - val_loss: 0.9579 - val_acc: 0.6912\n",
      "Epoch 66/200\n",
      "188/188 [==============================] - 18s 95ms/step - loss: 0.8327 - acc: 0.6982 - val_loss: 0.9746 - val_acc: 0.6780\n",
      "Epoch 67/200\n",
      "188/188 [==============================] - 18s 95ms/step - loss: 0.8419 - acc: 0.6974 - val_loss: 0.9796 - val_acc: 0.6912\n",
      "Epoch 68/200\n",
      "188/188 [==============================] - 18s 96ms/step - loss: 0.8315 - acc: 0.6998 - val_loss: 0.9868 - val_acc: 0.6760\n",
      "Epoch 69/200\n",
      "188/188 [==============================] - 18s 97ms/step - loss: 0.8335 - acc: 0.6977 - val_loss: 0.9953 - val_acc: 0.6791\n",
      "Epoch 70/200\n",
      "188/188 [==============================] - 18s 94ms/step - loss: 0.8252 - acc: 0.7025 - val_loss: 1.0052 - val_acc: 0.6838\n",
      "Epoch 71/200\n",
      "188/188 [==============================] - 18s 95ms/step - loss: 0.8361 - acc: 0.6976 - val_loss: 0.9911 - val_acc: 0.6833\n",
      "Epoch 72/200\n",
      "188/188 [==============================] - 18s 96ms/step - loss: 0.8351 - acc: 0.7006 - val_loss: 0.9722 - val_acc: 0.6909\n",
      "Epoch 73/200\n",
      "188/188 [==============================] - 18s 95ms/step - loss: 0.8308 - acc: 0.7007 - val_loss: 0.9974 - val_acc: 0.6831\n",
      "Epoch 74/200\n",
      "188/188 [==============================] - 18s 98ms/step - loss: 0.8332 - acc: 0.6983 - val_loss: 0.9498 - val_acc: 0.6861\n",
      "Epoch 75/200\n",
      "188/188 [==============================] - 18s 95ms/step - loss: 0.8330 - acc: 0.6952 - val_loss: 1.0197 - val_acc: 0.6844\n",
      "Epoch 76/200\n",
      "188/188 [==============================] - 18s 96ms/step - loss: 0.8327 - acc: 0.6982 - val_loss: 0.9575 - val_acc: 0.6875\n",
      "Epoch 77/200\n",
      "188/188 [==============================] - 18s 95ms/step - loss: 0.8305 - acc: 0.7010 - val_loss: 1.0510 - val_acc: 0.6824\n",
      "Epoch 78/200\n",
      "188/188 [==============================] - 18s 95ms/step - loss: 0.8351 - acc: 0.6957 - val_loss: 1.0001 - val_acc: 0.6742\n",
      "Epoch 79/200\n",
      "188/188 [==============================] - 18s 96ms/step - loss: 0.8416 - acc: 0.6987 - val_loss: 0.9663 - val_acc: 0.6980\n",
      "Epoch 80/200\n",
      "188/188 [==============================] - 18s 96ms/step - loss: 0.8214 - acc: 0.7011 - val_loss: 1.0025 - val_acc: 0.6827\n",
      "Epoch 81/200\n",
      "188/188 [==============================] - 18s 97ms/step - loss: 0.8313 - acc: 0.6994 - val_loss: 0.9743 - val_acc: 0.6809\n",
      "Epoch 82/200\n",
      "188/188 [==============================] - 18s 94ms/step - loss: 0.8264 - acc: 0.6998 - val_loss: 1.0045 - val_acc: 0.6770\n",
      "Epoch 83/200\n",
      "188/188 [==============================] - 18s 95ms/step - loss: 0.8303 - acc: 0.7001 - val_loss: 0.9931 - val_acc: 0.6819\n",
      "Epoch 84/200\n",
      "188/188 [==============================] - 18s 96ms/step - loss: 0.8283 - acc: 0.6999 - val_loss: 0.9852 - val_acc: 0.6916\n",
      "Epoch 85/200\n",
      "188/188 [==============================] - 18s 96ms/step - loss: 0.8265 - acc: 0.7021 - val_loss: 0.9883 - val_acc: 0.6780\n",
      "Epoch 86/200\n",
      "188/188 [==============================] - 18s 98ms/step - loss: 0.8213 - acc: 0.6986 - val_loss: 0.9531 - val_acc: 0.6956\n",
      "Epoch 87/200\n",
      "188/188 [==============================] - 18s 94ms/step - loss: 0.8275 - acc: 0.7019 - val_loss: 0.9902 - val_acc: 0.6838\n",
      "Epoch 88/200\n",
      "188/188 [==============================] - 18s 95ms/step - loss: 0.8259 - acc: 0.7004 - val_loss: 1.0348 - val_acc: 0.6707\n",
      "Epoch 89/200\n",
      "188/188 [==============================] - 18s 96ms/step - loss: 0.8280 - acc: 0.7000 - val_loss: 0.9947 - val_acc: 0.6895\n",
      "Epoch 90/200\n",
      "188/188 [==============================] - 18s 96ms/step - loss: 0.8238 - acc: 0.7016 - val_loss: 0.9321 - val_acc: 0.6933\n",
      "Epoch 91/200\n",
      "188/188 [==============================] - 18s 97ms/step - loss: 0.8345 - acc: 0.7001 - val_loss: 1.0141 - val_acc: 0.6823\n",
      "Epoch 92/200\n",
      "188/188 [==============================] - 18s 95ms/step - loss: 0.8199 - acc: 0.7045 - val_loss: 0.9792 - val_acc: 0.6878\n",
      "Epoch 93/200\n",
      "188/188 [==============================] - 18s 97ms/step - loss: 0.8285 - acc: 0.7018 - val_loss: 0.9921 - val_acc: 0.6872\n",
      "Epoch 94/200\n",
      "188/188 [==============================] - 18s 96ms/step - loss: 0.8263 - acc: 0.6978 - val_loss: 0.9310 - val_acc: 0.7018\n",
      "Epoch 95/200\n",
      "188/188 [==============================] - 18s 96ms/step - loss: 0.8238 - acc: 0.7052 - val_loss: 1.0616 - val_acc: 0.6717\n",
      "Epoch 96/200\n",
      "188/188 [==============================] - 18s 96ms/step - loss: 0.8270 - acc: 0.6992 - val_loss: 0.9602 - val_acc: 0.7011\n",
      "Epoch 97/200\n",
      "188/188 [==============================] - 18s 96ms/step - loss: 0.8132 - acc: 0.7090 - val_loss: 1.0061 - val_acc: 0.6824\n",
      "Epoch 98/200\n",
      "188/188 [==============================] - 18s 97ms/step - loss: 0.8213 - acc: 0.7066 - val_loss: 1.0139 - val_acc: 0.6840\n",
      "Epoch 99/200\n",
      "188/188 [==============================] - 18s 95ms/step - loss: 0.8305 - acc: 0.7004 - val_loss: 0.9846 - val_acc: 0.6838\n",
      "Epoch 100/200\n",
      "188/188 [==============================] - 18s 96ms/step - loss: 0.8150 - acc: 0.7077 - val_loss: 0.9859 - val_acc: 0.6882\n",
      "Epoch 101/200\n",
      "188/188 [==============================] - 18s 96ms/step - loss: 0.8180 - acc: 0.7006 - val_loss: 1.0162 - val_acc: 0.6746\n",
      "Epoch 102/200\n",
      "188/188 [==============================] - 18s 96ms/step - loss: 0.8192 - acc: 0.7045 - val_loss: 0.9496 - val_acc: 0.6912\n",
      "Epoch 103/200\n",
      "188/188 [==============================] - 18s 98ms/step - loss: 0.8260 - acc: 0.7048 - val_loss: 0.9886 - val_acc: 0.6893\n",
      "Epoch 104/200\n",
      "188/188 [==============================] - 18s 95ms/step - loss: 0.8174 - acc: 0.7059 - val_loss: 0.9765 - val_acc: 0.6953\n",
      "Epoch 105/200\n",
      "188/188 [==============================] - 18s 96ms/step - loss: 0.8206 - acc: 0.6975 - val_loss: 1.0180 - val_acc: 0.6759\n",
      "Epoch 106/200\n",
      "188/188 [==============================] - 18s 95ms/step - loss: 0.8253 - acc: 0.7032 - val_loss: 0.9425 - val_acc: 0.7038\n",
      "Epoch 107/200\n",
      "188/188 [==============================] - 18s 96ms/step - loss: 0.8227 - acc: 0.7018 - val_loss: 0.9992 - val_acc: 0.6800\n",
      "Epoch 108/200\n",
      "188/188 [==============================] - 18s 97ms/step - loss: 0.8082 - acc: 0.7068 - val_loss: 0.9717 - val_acc: 0.6868\n",
      "Epoch 109/200\n",
      "188/188 [==============================] - 18s 94ms/step - loss: 0.8197 - acc: 0.7041 - val_loss: 1.0402 - val_acc: 0.6810\n",
      "Epoch 110/200\n",
      "188/188 [==============================] - 18s 96ms/step - loss: 0.8294 - acc: 0.7016 - val_loss: 0.9466 - val_acc: 0.6942\n",
      "Epoch 111/200\n",
      "188/188 [==============================] - 18s 96ms/step - loss: 0.8188 - acc: 0.7020 - val_loss: 0.9733 - val_acc: 0.6977\n",
      "Epoch 112/200\n",
      "188/188 [==============================] - 18s 96ms/step - loss: 0.8097 - acc: 0.7057 - val_loss: 0.9882 - val_acc: 0.6879\n",
      "Epoch 113/200\n",
      "188/188 [==============================] - 18s 95ms/step - loss: 0.8133 - acc: 0.7069 - val_loss: 0.9991 - val_acc: 0.6923\n",
      "Epoch 114/200\n",
      "188/188 [==============================] - 18s 96ms/step - loss: 0.8195 - acc: 0.7015 - val_loss: 1.0349 - val_acc: 0.6831\n",
      "Epoch 115/200\n",
      "188/188 [==============================] - 18s 95ms/step - loss: 0.8286 - acc: 0.6977 - val_loss: 0.9724 - val_acc: 0.6840\n",
      "Epoch 116/200\n",
      "188/188 [==============================] - 18s 95ms/step - loss: 0.8136 - acc: 0.7033 - val_loss: 0.9605 - val_acc: 0.6838\n",
      "Epoch 117/200\n",
      "188/188 [==============================] - 18s 97ms/step - loss: 0.8187 - acc: 0.7014 - val_loss: 1.0379 - val_acc: 0.6763\n",
      "Epoch 118/200\n",
      "188/188 [==============================] - 18s 95ms/step - loss: 0.8120 - acc: 0.7096 - val_loss: 0.9732 - val_acc: 0.6892\n",
      "Epoch 119/200\n",
      "188/188 [==============================] - 18s 93ms/step - loss: 0.8173 - acc: 0.7063 - val_loss: 1.0162 - val_acc: 0.6739\n",
      "Epoch 120/200\n",
      "188/188 [==============================] - 18s 98ms/step - loss: 0.8181 - acc: 0.7041 - val_loss: 1.0026 - val_acc: 0.6791\n",
      "Epoch 121/200\n",
      "188/188 [==============================] - 18s 94ms/step - loss: 0.8245 - acc: 0.7026 - val_loss: 1.0250 - val_acc: 0.6715\n",
      "Epoch 122/200\n",
      "188/188 [==============================] - 18s 95ms/step - loss: 0.8156 - acc: 0.7033 - val_loss: 1.0079 - val_acc: 0.6766\n",
      "Epoch 123/200\n",
      "188/188 [==============================] - 18s 94ms/step - loss: 0.8110 - acc: 0.7078 - val_loss: 0.9992 - val_acc: 0.6865\n",
      "Epoch 124/200\n",
      "188/188 [==============================] - 17s 92ms/step - loss: 0.8311 - acc: 0.6996 - val_loss: 1.0090 - val_acc: 0.6810\n",
      "Epoch 125/200\n",
      "188/188 [==============================] - 17s 91ms/step - loss: 0.8164 - acc: 0.7037 - val_loss: 1.0252 - val_acc: 0.6759\n",
      "Epoch 126/200\n",
      "188/188 [==============================] - 17s 93ms/step - loss: 0.8145 - acc: 0.7052 - val_loss: 0.9694 - val_acc: 0.6946\n",
      "Epoch 127/200\n",
      "188/188 [==============================] - 18s 94ms/step - loss: 0.8146 - acc: 0.7071 - val_loss: 1.1037 - val_acc: 0.6703\n",
      "Epoch 128/200\n",
      "188/188 [==============================] - 17s 92ms/step - loss: 0.8182 - acc: 0.7012 - val_loss: 1.0434 - val_acc: 0.6661\n",
      "Epoch 129/200\n",
      "188/188 [==============================] - 18s 93ms/step - loss: 0.8143 - acc: 0.7044 - val_loss: 0.9952 - val_acc: 0.6963\n",
      "Epoch 130/200\n",
      "188/188 [==============================] - 18s 95ms/step - loss: 0.8193 - acc: 0.7066 - val_loss: 1.0259 - val_acc: 0.6784\n",
      "Epoch 131/200\n",
      "188/188 [==============================] - 17s 90ms/step - loss: 0.8165 - acc: 0.7037 - val_loss: 1.0236 - val_acc: 0.6878\n",
      "Epoch 132/200\n",
      "188/188 [==============================] - 18s 94ms/step - loss: 0.8075 - acc: 0.7064 - val_loss: 0.9949 - val_acc: 0.6809\n",
      "Epoch 133/200\n",
      "188/188 [==============================] - 18s 93ms/step - loss: 0.8246 - acc: 0.7025 - val_loss: 1.0219 - val_acc: 0.6810\n",
      "Epoch 134/200\n",
      "188/188 [==============================] - 18s 94ms/step - loss: 0.8147 - acc: 0.7090 - val_loss: 0.9946 - val_acc: 0.6784\n",
      "Epoch 135/200\n",
      "188/188 [==============================] - 18s 97ms/step - loss: 0.8282 - acc: 0.7023 - val_loss: 0.9865 - val_acc: 0.6838\n",
      "Epoch 136/200\n",
      "188/188 [==============================] - 18s 97ms/step - loss: 0.8135 - acc: 0.7108 - val_loss: 1.0502 - val_acc: 0.6790\n",
      "Epoch 137/200\n",
      "188/188 [==============================] - 18s 97ms/step - loss: 0.8134 - acc: 0.7047 - val_loss: 0.9407 - val_acc: 0.6967\n",
      "Epoch 138/200\n",
      "188/188 [==============================] - 17s 92ms/step - loss: 0.8145 - acc: 0.7081 - val_loss: 1.0483 - val_acc: 0.6722\n",
      "Epoch 139/200\n",
      "188/188 [==============================] - 18s 95ms/step - loss: 0.8097 - acc: 0.7092 - val_loss: 0.9767 - val_acc: 0.6967\n",
      "Epoch 140/200\n",
      "188/188 [==============================] - 18s 94ms/step - loss: 0.8098 - acc: 0.7081 - val_loss: 1.0123 - val_acc: 0.6732\n",
      "Epoch 141/200\n",
      "188/188 [==============================] - 18s 94ms/step - loss: 0.8111 - acc: 0.7133 - val_loss: 1.0051 - val_acc: 0.6872\n",
      "Epoch 142/200\n",
      "188/188 [==============================] - 18s 96ms/step - loss: 0.8085 - acc: 0.7066 - val_loss: 1.0684 - val_acc: 0.6707\n",
      "Epoch 143/200\n",
      "188/188 [==============================] - 17s 92ms/step - loss: 0.8120 - acc: 0.7087 - val_loss: 1.0074 - val_acc: 0.6848\n",
      "Epoch 144/200\n",
      "188/188 [==============================] - 18s 96ms/step - loss: 0.8216 - acc: 0.6996 - val_loss: 0.9735 - val_acc: 0.6784\n",
      "Epoch 145/200\n",
      "188/188 [==============================] - 18s 94ms/step - loss: 0.8169 - acc: 0.7085 - val_loss: 0.9796 - val_acc: 0.6929\n",
      "Epoch 146/200\n",
      "188/188 [==============================] - 18s 96ms/step - loss: 0.8162 - acc: 0.7036 - val_loss: 1.0173 - val_acc: 0.6760\n",
      "Epoch 147/200\n",
      "188/188 [==============================] - 18s 96ms/step - loss: 0.8151 - acc: 0.7080 - val_loss: 1.0181 - val_acc: 0.6802\n",
      "Epoch 148/200\n",
      "188/188 [==============================] - 18s 93ms/step - loss: 0.8170 - acc: 0.7030 - val_loss: 1.0397 - val_acc: 0.6760\n",
      "Epoch 149/200\n",
      "188/188 [==============================] - 18s 96ms/step - loss: 0.8056 - acc: 0.7091 - val_loss: 1.0003 - val_acc: 0.6714\n",
      "Epoch 150/200\n",
      "188/188 [==============================] - 17s 93ms/step - loss: 0.8138 - acc: 0.7064 - val_loss: 1.0243 - val_acc: 0.6838\n",
      "Epoch 151/200\n",
      "188/188 [==============================] - 18s 96ms/step - loss: 0.8208 - acc: 0.7058 - val_loss: 1.0634 - val_acc: 0.6682\n",
      "Epoch 152/200\n",
      "188/188 [==============================] - 18s 95ms/step - loss: 0.8130 - acc: 0.7063 - val_loss: 1.0871 - val_acc: 0.6569\n",
      "Epoch 153/200\n",
      "188/188 [==============================] - 18s 95ms/step - loss: 0.8039 - acc: 0.7107 - val_loss: 0.9743 - val_acc: 0.6997\n",
      "Epoch 154/200\n",
      "188/188 [==============================] - 18s 95ms/step - loss: 0.8059 - acc: 0.7119 - val_loss: 1.0063 - val_acc: 0.6812\n",
      "Epoch 155/200\n",
      "188/188 [==============================] - 18s 94ms/step - loss: 0.8136 - acc: 0.7096 - val_loss: 1.0431 - val_acc: 0.6797\n",
      "Epoch 156/200\n",
      "188/188 [==============================] - 18s 94ms/step - loss: 0.8097 - acc: 0.7081 - val_loss: 1.0425 - val_acc: 0.6728\n",
      "Epoch 157/200\n",
      "188/188 [==============================] - 18s 95ms/step - loss: 0.8104 - acc: 0.7078 - val_loss: 1.0150 - val_acc: 0.6793\n",
      "Epoch 158/200\n",
      "188/188 [==============================] - 18s 95ms/step - loss: 0.8100 - acc: 0.7087 - val_loss: 1.0452 - val_acc: 0.6719\n",
      "Epoch 159/200\n",
      "188/188 [==============================] - 18s 96ms/step - loss: 0.8004 - acc: 0.7079 - val_loss: 1.0062 - val_acc: 0.6812\n",
      "Epoch 160/200\n",
      "188/188 [==============================] - 17s 93ms/step - loss: 0.7993 - acc: 0.7114 - val_loss: 1.0255 - val_acc: 0.6807\n",
      "Epoch 161/200\n",
      "188/188 [==============================] - 18s 94ms/step - loss: 0.7958 - acc: 0.7151 - val_loss: 1.0082 - val_acc: 0.6872\n",
      "Epoch 162/200\n",
      "188/188 [==============================] - 18s 95ms/step - loss: 0.8001 - acc: 0.7139 - val_loss: 1.0231 - val_acc: 0.6736\n",
      "Epoch 163/200\n",
      "188/188 [==============================] - 18s 94ms/step - loss: 0.8110 - acc: 0.7070 - val_loss: 1.0040 - val_acc: 0.6831\n",
      "Epoch 164/200\n",
      "188/188 [==============================] - 18s 97ms/step - loss: 0.8045 - acc: 0.7086 - val_loss: 0.9777 - val_acc: 0.6879\n",
      "Epoch 165/200\n",
      "188/188 [==============================] - 17s 92ms/step - loss: 0.8221 - acc: 0.7053 - val_loss: 1.0122 - val_acc: 0.6834\n",
      "Epoch 166/200\n",
      "188/188 [==============================] - 18s 95ms/step - loss: 0.8059 - acc: 0.7088 - val_loss: 1.0404 - val_acc: 0.6721\n",
      "Epoch 167/200\n",
      "188/188 [==============================] - 18s 94ms/step - loss: 0.8077 - acc: 0.7091 - val_loss: 1.0028 - val_acc: 0.6800\n",
      "Epoch 168/200\n",
      "188/188 [==============================] - 17s 93ms/step - loss: 0.8108 - acc: 0.7072 - val_loss: 1.0301 - val_acc: 0.6812\n",
      "Epoch 169/200\n",
      "188/188 [==============================] - 18s 95ms/step - loss: 0.7882 - acc: 0.7151 - val_loss: 1.0885 - val_acc: 0.6712\n",
      "Epoch 170/200\n",
      "188/188 [==============================] - 18s 93ms/step - loss: 0.7986 - acc: 0.7136 - val_loss: 0.9823 - val_acc: 0.6919\n",
      "Epoch 171/200\n",
      "188/188 [==============================] - 18s 95ms/step - loss: 0.8078 - acc: 0.7100 - val_loss: 1.0690 - val_acc: 0.6724\n",
      "Epoch 172/200\n",
      "188/188 [==============================] - 18s 95ms/step - loss: 0.8099 - acc: 0.7064 - val_loss: 0.9713 - val_acc: 0.6899\n",
      "Epoch 173/200\n",
      "188/188 [==============================] - 18s 94ms/step - loss: 0.8110 - acc: 0.7099 - val_loss: 1.0678 - val_acc: 0.6809\n",
      "Epoch 174/200\n",
      "188/188 [==============================] - 18s 95ms/step - loss: 0.8010 - acc: 0.7090 - val_loss: 0.9527 - val_acc: 0.6994\n",
      "Epoch 175/200\n",
      "188/188 [==============================] - 18s 94ms/step - loss: 0.7971 - acc: 0.7132 - val_loss: 1.0377 - val_acc: 0.6726\n",
      "Epoch 176/200\n",
      "188/188 [==============================] - 18s 96ms/step - loss: 0.8128 - acc: 0.7077 - val_loss: 1.0226 - val_acc: 0.6826\n",
      "Epoch 177/200\n",
      "188/188 [==============================] - 17s 92ms/step - loss: 0.8122 - acc: 0.7077 - val_loss: 1.0464 - val_acc: 0.6824\n",
      "Epoch 178/200\n",
      "188/188 [==============================] - 18s 95ms/step - loss: 0.8039 - acc: 0.7127 - val_loss: 1.0553 - val_acc: 0.6703\n",
      "Epoch 179/200\n",
      "188/188 [==============================] - 18s 97ms/step - loss: 0.8075 - acc: 0.7065 - val_loss: 1.0322 - val_acc: 0.6749\n",
      "Epoch 180/200\n",
      "188/188 [==============================] - 18s 95ms/step - loss: 0.8051 - acc: 0.7130 - val_loss: 0.9966 - val_acc: 0.6933\n",
      "Epoch 181/200\n",
      "188/188 [==============================] - 18s 96ms/step - loss: 0.7883 - acc: 0.7171 - val_loss: 0.9906 - val_acc: 0.6826\n",
      "Epoch 182/200\n",
      "188/188 [==============================] - 17s 92ms/step - loss: 0.7998 - acc: 0.7117 - val_loss: 1.0692 - val_acc: 0.6671\n",
      "Epoch 183/200\n",
      "188/188 [==============================] - 18s 95ms/step - loss: 0.8013 - acc: 0.7091 - val_loss: 1.0009 - val_acc: 0.6942\n",
      "Epoch 184/200\n",
      "188/188 [==============================] - 18s 95ms/step - loss: 0.8117 - acc: 0.7070 - val_loss: 1.0513 - val_acc: 0.6678\n",
      "Epoch 185/200\n",
      "188/188 [==============================] - 18s 95ms/step - loss: 0.8084 - acc: 0.7057 - val_loss: 1.0070 - val_acc: 0.6841\n",
      "Epoch 186/200\n",
      "188/188 [==============================] - 18s 96ms/step - loss: 0.7881 - acc: 0.7115 - val_loss: 0.9490 - val_acc: 0.7090\n",
      "Epoch 187/200\n",
      "188/188 [==============================] - 17s 92ms/step - loss: 0.8049 - acc: 0.7108 - val_loss: 1.0507 - val_acc: 0.6681\n",
      "Epoch 188/200\n",
      "188/188 [==============================] - 18s 95ms/step - loss: 0.8037 - acc: 0.7122 - val_loss: 1.0276 - val_acc: 0.6766\n",
      "Epoch 189/200\n",
      "188/188 [==============================] - 18s 95ms/step - loss: 0.7962 - acc: 0.7137 - val_loss: 0.9941 - val_acc: 0.6970\n",
      "Epoch 190/200\n",
      "188/188 [==============================] - 18s 94ms/step - loss: 0.7989 - acc: 0.7098 - val_loss: 1.0066 - val_acc: 0.6784\n",
      "Epoch 191/200\n",
      "188/188 [==============================] - 18s 95ms/step - loss: 0.7995 - acc: 0.7122 - val_loss: 0.9925 - val_acc: 0.6967\n",
      "Epoch 192/200\n",
      "188/188 [==============================] - 18s 95ms/step - loss: 0.7864 - acc: 0.7140 - val_loss: 1.0580 - val_acc: 0.6756\n",
      "Epoch 193/200\n",
      "188/188 [==============================] - 18s 96ms/step - loss: 0.7946 - acc: 0.7131 - val_loss: 0.9811 - val_acc: 0.6893\n",
      "Epoch 194/200\n",
      "188/188 [==============================] - 18s 94ms/step - loss: 0.7993 - acc: 0.7127 - val_loss: 1.0057 - val_acc: 0.6732\n",
      "Epoch 195/200\n",
      "188/188 [==============================] - 18s 95ms/step - loss: 0.8046 - acc: 0.7105 - val_loss: 1.0365 - val_acc: 0.6787\n",
      "Epoch 196/200\n",
      "188/188 [==============================] - 18s 95ms/step - loss: 0.8022 - acc: 0.7140 - val_loss: 0.9898 - val_acc: 0.6909\n",
      "Epoch 197/200\n",
      "188/188 [==============================] - 18s 95ms/step - loss: 0.8109 - acc: 0.7093 - val_loss: 1.0354 - val_acc: 0.6827\n",
      "Epoch 198/200\n",
      "188/188 [==============================] - 18s 97ms/step - loss: 0.7894 - acc: 0.7193 - val_loss: 1.0610 - val_acc: 0.6735\n",
      "Epoch 199/200\n",
      "188/188 [==============================] - 17s 93ms/step - loss: 0.8057 - acc: 0.7095 - val_loss: 0.9676 - val_acc: 0.6834\n",
      "Epoch 200/200\n",
      "188/188 [==============================] - 18s 94ms/step - loss: 0.8055 - acc: 0.7104 - val_loss: 1.0121 - val_acc: 0.6763\n"
     ]
    }
   ],
   "source": [
    "\n",
    "\n",
    "model.compile(loss='categorical_crossentropy',\n",
    "              optimizer = Adam(lr=0.001),\n",
    "              metrics=['accuracy'])\n",
    "\n",
    "nb_train_samples = 24176\n",
    "nb_validation_samples = 3006\n",
    "epochs=200\n",
    "\n",
    "history=model.fit_generator(\n",
    "                train_generator,\n",
    "                steps_per_epoch=nb_train_samples//batch_size,\n",
    "                epochs=epochs,\n",
    "               # callbacks=callbacks,\n",
    "                validation_data=validation_generator,\n",
    "                validation_steps=nb_validation_samples//batch_size)"
   ]
  },
  {
   "cell_type": "code",
   "execution_count": 0,
   "metadata": {
    "colab": {},
    "colab_type": "code",
    "id": "8EIBp8rvoXYF",
    "pycharm": {
     "name": "#%%\n"
    }
   },
   "outputs": [],
   "source": [
    "\n",
    "\n",
    "\n"
   ]
  }
 ],
 "metadata": {
  "accelerator": "GPU",
  "colab": {
   "name": "model.ipynb",
   "provenance": []
  },
  "kernelspec": {
   "display_name": "Python 3",
   "language": "python",
   "name": "python3"
  },
  "language_info": {
   "codemirror_mode": {
    "name": "ipython",
    "version": 3
   },
   "file_extension": ".py",
   "mimetype": "text/x-python",
   "name": "python",
   "nbconvert_exporter": "python",
   "pygments_lexer": "ipython3",
   "version": "3.7.3"
  }
 },
 "nbformat": 4,
 "nbformat_minor": 1
}